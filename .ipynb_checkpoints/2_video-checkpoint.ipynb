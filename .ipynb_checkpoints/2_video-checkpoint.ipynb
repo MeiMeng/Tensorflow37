{
 "cells": [
  {
   "cell_type": "code",
   "execution_count": 1,
   "metadata": {},
   "outputs": [],
   "source": [
    "import cv2\n",
    "import matplotlib.pyplot as plt\n",
    "import numpy as np\n",
    "%matplotlib inline"
   ]
  },
  {
   "cell_type": "code",
   "execution_count": 2,
   "metadata": {},
   "outputs": [],
   "source": [
    "def cv_show(name, img):\n",
    "    cv2.imshow(name, img)\n",
    "    cv2.waitKey(0)  #0表示任意键，其他数字表示等待ms数\n",
    "    cv2.destroyAllWindows()"
   ]
  },
  {
   "cell_type": "markdown",
   "metadata": {},
   "source": [
    "# 视频读取\n",
    "\n",
    "cv2.VideoCapture可以捕获摄像头，用数字来控制不同设备，例如：0、1。\n",
    "如果是视频文件，直接指定路径即可。"
   ]
  },
  {
   "cell_type": "code",
   "execution_count": 3,
   "metadata": {},
   "outputs": [],
   "source": [
    "vc = cv2.VideoCapture('gao.mp4')"
   ]
  },
  {
   "cell_type": "code",
   "execution_count": 4,
   "metadata": {},
   "outputs": [],
   "source": [
    "if vc.isOpened():\n",
    "    open, frame = vc.read()  #第一帧，一张图片\n",
    "else:\n",
    "    open = False"
   ]
  },
  {
   "cell_type": "code",
   "execution_count": 5,
   "metadata": {},
   "outputs": [
    {
     "data": {
      "text/plain": [
       "True"
      ]
     },
     "execution_count": 5,
     "metadata": {},
     "output_type": "execute_result"
    }
   ],
   "source": [
    "open"
   ]
  },
  {
   "cell_type": "code",
   "execution_count": 6,
   "metadata": {},
   "outputs": [
    {
     "data": {
      "text/plain": [
       "(544, 960, 3)"
      ]
     },
     "execution_count": 6,
     "metadata": {},
     "output_type": "execute_result"
    }
   ],
   "source": [
    "frame.shape"
   ]
  },
  {
   "cell_type": "code",
   "execution_count": null,
   "metadata": {},
   "outputs": [],
   "source": [
    "# 顺序播放视频中的图像\n",
    "while open:\n",
    "    ret, frame = vc.read()   #Boolean,imageBGR\n",
    "    if frame is None:\n",
    "        break\n",
    "    if ret==True:\n",
    "        frame = cv2.resize(frame, (np.int(frame.shape[1]/1.5), np.int(frame.shape[0]/1.5) ), interpolation=cv2.INTER_LINEAR) #双线性插值法（默认）\n",
    "        #gray = cv2.cvtColor(frame, cv2.COLOR_BGR2GRAY) #彩色图->灰度图\n",
    "        cv2.imshow('vdo', frame)\n",
    "        if cv2.waitKey(1) & 0xFF==27:  #27是esc键\n",
    "            break\n",
    "        \n",
    "vc.release()\n",
    "cv2.destroyAllWindows()\n"
   ]
  },
  {
   "cell_type": "code",
   "execution_count": null,
   "metadata": {},
   "outputs": [],
   "source": []
  }
 ],
 "metadata": {
  "kernelspec": {
   "display_name": "Python 3",
   "language": "python",
   "name": "python3"
  },
  "language_info": {
   "codemirror_mode": {
    "name": "ipython",
    "version": 3
   },
   "file_extension": ".py",
   "mimetype": "text/x-python",
   "name": "python",
   "nbconvert_exporter": "python",
   "pygments_lexer": "ipython3",
   "version": "3.7.4"
  }
 },
 "nbformat": 4,
 "nbformat_minor": 2
}
